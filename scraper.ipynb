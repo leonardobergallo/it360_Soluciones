{
 "cells": [
  {
   "cell_type": "code",
   "execution_count": 1,
   "id": "5a95fd38",
   "metadata": {},
   "outputs": [],
   "source": [
    "from photoDownloader import *\n",
    "import time\n",
    "downloader = PhotoDownloader(headless=False)  # headless=False para que cargue bien las imágenes\n",
    "\n",
    "   \n"
   ]
  },
  {
   "cell_type": "code",
   "execution_count": null,
   "id": "4e34d54f",
   "metadata": {},
   "outputs": [
    {
     "name": "stdout",
     "output_type": "stream",
     "text": [
      "[Michael Jackson] Imagen guardada en: /home/bartolo/Documents/it360/it360_Soluciones/michael1.jpg\n",
      "[lebron] Imagen guardada en: /home/bartolo/Documents/it360/it360_Soluciones/gato1.jpg\n",
      "[lionel mesi] Imagen guardada en: /home/bartolo/Documents/it360/it360_Soluciones/paisaje1.jpg\n"
     ]
    }
   ],
   "source": [
    "downloader.descargar_foto(\"metodologia scrum\", \"michael1.jpg\")\n",
    "time.sleep(3)\n",
    "downloader.descargar_foto(\"diagrama de gantt\", \"gato1.jpg\")\n",
    "time.sleep(3)\n",
    "downloader.descargar_foto(\"diagrama de actividad\", \"paisaje1.jpg\")\n",
    "downloader.cerrar()\n"
   ]
  }
 ],
 "metadata": {
  "kernelspec": {
   "display_name": "Python 3",
   "language": "python",
   "name": "python3"
  },
  "language_info": {
   "codemirror_mode": {
    "name": "ipython",
    "version": 3
   },
   "file_extension": ".py",
   "mimetype": "text/x-python",
   "name": "python",
   "nbconvert_exporter": "python",
   "pygments_lexer": "ipython3",
   "version": "3.12.10"
  }
 },
 "nbformat": 4,
 "nbformat_minor": 5
}
