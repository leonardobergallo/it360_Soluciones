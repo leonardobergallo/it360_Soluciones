{
 "cells": [
  {
   "cell_type": "code",
   "execution_count": 3,
   "id": "5a95fd38",
   "metadata": {},
   "outputs": [],
   "source": [
    "from photoDownloader import *\n",
    "import time\n",
    "downloader = PhotoDownloader(headless=False)  # headless=False para que cargue bien las imágenes\n",
    "\n",
    "   \n"
   ]
  },
  {
   "cell_type": "code",
   "execution_count": 4,
   "id": "4e34d54f",
   "metadata": {},
   "outputs": [
    {
     "name": "stdout",
     "output_type": "stream",
     "text": [
      "[Heladera Kohinoor] Imagen guardada en: /home/bartolo/Documents/it360/it360_Soluciones/public/images/heleitor.png\n"
     ]
    },
    {
     "data": {
      "text/plain": [
       "'/home/bartolo/Documents/it360/it360_Soluciones/public/images/heleitor.png'"
      ]
     },
     "execution_count": 4,
     "metadata": {},
     "output_type": "execute_result"
    }
   ],
   "source": [
    "downloader.descargar_foto(\"Heladera Kohinoor\", \"heleitor.jpg\")\n"
   ]
  }
 ],
 "metadata": {
  "kernelspec": {
   "display_name": "Python 3",
   "language": "python",
   "name": "python3"
  },
  "language_info": {
   "codemirror_mode": {
    "name": "ipython",
    "version": 3
   },
   "file_extension": ".py",
   "mimetype": "text/x-python",
   "name": "python",
   "nbconvert_exporter": "python",
   "pygments_lexer": "ipython3",
   "version": "3.12.10"
  }
 },
 "nbformat": 4,
 "nbformat_minor": 5
}
