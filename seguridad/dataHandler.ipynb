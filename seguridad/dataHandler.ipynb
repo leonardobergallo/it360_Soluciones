{
 "cells": [
  {
   "cell_type": "code",
   "execution_count": 1,
   "id": "d9045f05",
   "metadata": {},
   "outputs": [],
   "source": [
    "from image_downloader import *\n",
    "import pandas as pd"
   ]
  },
  {
   "cell_type": "code",
   "execution_count": null,
   "id": "c561cfa8",
   "metadata": {},
   "outputs": [],
   "source": [
    "file = pd.read_csv(\"listaGrande.csv\")\n",
    "# Columnas que queremos extraer\n",
    "cols = [\n",
    "    \"Cód.\",\n",
    "    \"Cód. Fab.\",\n",
    "    \"Descripción\",\n",
    "    \"Rubro\",\n",
    "    \"Marca\",\n",
    "    \"Stock\",\n",
    "    \"Precios con IVA (DOLAR (U$S))\",\n",
    "    \"Descripción Detallada\",\n",
    "    \"Descripción Larga\",\n",
    "]\n",
    "\n",
    "# Filtrar solo esas columnas\n",
    "filtered = file[cols]"
   ]
  },
  {
   "cell_type": "code",
   "execution_count": 6,
   "id": "19d0236b",
   "metadata": {},
   "outputs": [
    {
     "name": "stdout",
     "output_type": "stream",
     "text": [
      "Noganet Mouse optico\n"
     ]
    }
   ],
   "source": [
    "item = filtered.iloc[4]\n",
    "x = str(f\"{item[\"Marca\"]} {item[\"Descripción\"]}\")[:20]\n",
    "print(x)"
   ]
  },
  {
   "cell_type": "code",
   "execution_count": 7,
   "id": "24194982",
   "metadata": {},
   "outputs": [
    {
     "name": "stdout",
     "output_type": "stream",
     "text": [
      "Descargando: https://acdn-us.mitiendanube.com/stores/001/593/734/products/ng-611u-ng-full1-caa428fd13420037e416315535088578-1024-1024.jpg\n",
      "✅ Imagen guardada en: test_images/Noganet_Mouse_optico.jpg\n"
     ]
    }
   ],
   "source": [
    "descargar_imagen(x)"
   ]
  },
  {
   "cell_type": "code",
   "execution_count": null,
   "id": "b1dea8ab",
   "metadata": {},
   "outputs": [],
   "source": [
    "# Iterar sobre filas\n",
    "for _, item in file.iterrows():\n",
    "    try:\n",
    "        # Procesar datos\n",
    "        name = str(item[\"Descripción\"])[:50]  # nombre corto\n",
    "        description = str(item[\"Descripción Larga\"]) if pd.notna(item[\"Descripción Larga\"]) else str(item[\"Descripción\"])\n",
    "        \n",
    "        price = float(item[\"Precios con IVA (DOLAR (U$S))\"])\n",
    "        markup = 20.0  # Ejemplo: 20%\n",
    "        basePrice = price / (1 + markup/100)\n",
    "\n",
    "        stock = 1 if str(item[\"Stock\"]).strip().lower() == \"si\" else 0\n",
    "        category = str(item[\"Rubro\"]) if pd.notna(item[\"Rubro\"]) else \"general\"\n",
    "\n",
    "        # Nombre imagen\n",
    "        image = f\"{item['Marca']} {item['Descripción']}\"[:20].replace(\" \", \"_\") + \".jpg\"\n",
    "\n",
    "        # JSON a enviar\n",
    "        payload = {\n",
    "            \"name\": name,\n",
    "            \"description\": description,\n",
    "            \"price\": price,\n",
    "            \"basePrice\": basePrice,\n",
    "            \"markup\": markup,\n",
    "            \"stock\": stock,\n",
    "            \"category\": category,\n",
    "            \"image\": image\n",
    "        }\n",
    "\n",
    "        # Enviar a API\n",
    "        resp = requests.post(API_URL, json=payload)\n",
    "        if resp.status_code == 201:\n",
    "            print(f\"✅ Producto creado: {name}\")\n",
    "        else:\n",
    "            print(f\"⚠️ Error {resp.status_code}: {resp.text}\")\n",
    "\n",
    "    except Exception as e:\n",
    "        print(\"❌ Error procesando fila:\", e)"
   ]
  }
 ],
 "metadata": {
  "kernelspec": {
   "display_name": "Python 3",
   "language": "python",
   "name": "python3"
  },
  "language_info": {
   "codemirror_mode": {
    "name": "ipython",
    "version": 3
   },
   "file_extension": ".py",
   "mimetype": "text/x-python",
   "name": "python",
   "nbconvert_exporter": "python",
   "pygments_lexer": "ipython3",
   "version": "3.12.10"
  }
 },
 "nbformat": 4,
 "nbformat_minor": 5
}
